{
  "cells": [
    {
      "cell_type": "code",
      "source": [
        "import numpy as np\n",
        "import matplotlib.pyplot as plt"
      ],
      "metadata": {
        "id": "Q0MYkO0_sCq_"
      },
      "execution_count": null,
      "outputs": []
    },
    {
      "cell_type": "markdown",
      "metadata": {
        "id": "kad65PaKLrR4"
      },
      "source": [
        "1. Напишите программу `NumPy`, чтобы получить версию `NumPy` и показать конфигурацию сборки `NumPy`."
      ]
    },
    {
      "cell_type": "code",
      "execution_count": null,
      "metadata": {
        "id": "Er1A02n9LrR7",
        "colab": {
          "base_uri": "https://localhost:8080/"
        },
        "outputId": "0a99ef64-cf40-4dc1-a800-2aa9e5dec8ed"
      },
      "outputs": [
        {
          "output_type": "stream",
          "name": "stdout",
          "text": [
            "1.25.2\n",
            "openblas64__info:\n",
            "    libraries = ['openblas64_', 'openblas64_']\n",
            "    library_dirs = ['/usr/local/lib']\n",
            "    language = c\n",
            "    define_macros = [('HAVE_CBLAS', None), ('BLAS_SYMBOL_SUFFIX', '64_'), ('HAVE_BLAS_ILP64', None)]\n",
            "    runtime_library_dirs = ['/usr/local/lib']\n",
            "blas_ilp64_opt_info:\n",
            "    libraries = ['openblas64_', 'openblas64_']\n",
            "    library_dirs = ['/usr/local/lib']\n",
            "    language = c\n",
            "    define_macros = [('HAVE_CBLAS', None), ('BLAS_SYMBOL_SUFFIX', '64_'), ('HAVE_BLAS_ILP64', None)]\n",
            "    runtime_library_dirs = ['/usr/local/lib']\n",
            "openblas64__lapack_info:\n",
            "    libraries = ['openblas64_', 'openblas64_']\n",
            "    library_dirs = ['/usr/local/lib']\n",
            "    language = c\n",
            "    define_macros = [('HAVE_CBLAS', None), ('BLAS_SYMBOL_SUFFIX', '64_'), ('HAVE_BLAS_ILP64', None), ('HAVE_LAPACKE', None)]\n",
            "    runtime_library_dirs = ['/usr/local/lib']\n",
            "lapack_ilp64_opt_info:\n",
            "    libraries = ['openblas64_', 'openblas64_']\n",
            "    library_dirs = ['/usr/local/lib']\n",
            "    language = c\n",
            "    define_macros = [('HAVE_CBLAS', None), ('BLAS_SYMBOL_SUFFIX', '64_'), ('HAVE_BLAS_ILP64', None), ('HAVE_LAPACKE', None)]\n",
            "    runtime_library_dirs = ['/usr/local/lib']\n",
            "Supported SIMD extensions in this NumPy install:\n",
            "    baseline = SSE,SSE2,SSE3\n",
            "    found = SSSE3,SSE41,POPCNT,SSE42,AVX,F16C,FMA3,AVX2\n",
            "    not found = AVX512F,AVX512CD,AVX512_KNL,AVX512_KNM,AVX512_SKX,AVX512_CLX,AVX512_CNL,AVX512_ICL\n",
            "None\n"
          ]
        }
      ],
      "source": [
        "print(np.__version__)\n",
        "print(np.show_config())"
      ]
    },
    {
      "cell_type": "markdown",
      "metadata": {
        "id": "3LjJHxKnLrR8"
      },
      "source": [
        "2. Напишите программу `NumPy`, чтобы получить справку по функции `add`."
      ]
    },
    {
      "cell_type": "code",
      "execution_count": null,
      "metadata": {
        "id": "lDhA55d-LrR8",
        "colab": {
          "base_uri": "https://localhost:8080/"
        },
        "outputId": "ce082652-a083-402c-9291-cca5991b916d"
      },
      "outputs": [
        {
          "output_type": "stream",
          "name": "stdout",
          "text": [
            "add(x1, x2, /, out=None, *, where=True, casting='same_kind', order='K', dtype=None, subok=True[, signature, extobj])\n",
            "\n",
            "Add arguments element-wise.\n",
            "\n",
            "Parameters\n",
            "----------\n",
            "x1, x2 : array_like\n",
            "    The arrays to be added.\n",
            "    If ``x1.shape != x2.shape``, they must be broadcastable to a common\n",
            "    shape (which becomes the shape of the output).\n",
            "out : ndarray, None, or tuple of ndarray and None, optional\n",
            "    A location into which the result is stored. If provided, it must have\n",
            "    a shape that the inputs broadcast to. If not provided or None,\n",
            "    a freshly-allocated array is returned. A tuple (possible only as a\n",
            "    keyword argument) must have length equal to the number of outputs.\n",
            "where : array_like, optional\n",
            "    This condition is broadcast over the input. At locations where the\n",
            "    condition is True, the `out` array will be set to the ufunc result.\n",
            "    Elsewhere, the `out` array will retain its original value.\n",
            "    Note that if an uninitialized `out` array is created via the default\n",
            "    ``out=None``, locations within it where the condition is False will\n",
            "    remain uninitialized.\n",
            "**kwargs\n",
            "    For other keyword-only arguments, see the\n",
            "    :ref:`ufunc docs <ufuncs.kwargs>`.\n",
            "\n",
            "Returns\n",
            "-------\n",
            "add : ndarray or scalar\n",
            "    The sum of `x1` and `x2`, element-wise.\n",
            "    This is a scalar if both `x1` and `x2` are scalars.\n",
            "\n",
            "Notes\n",
            "-----\n",
            "Equivalent to `x1` + `x2` in terms of array broadcasting.\n",
            "\n",
            "Examples\n",
            "--------\n",
            ">>> np.add(1.0, 4.0)\n",
            "5.0\n",
            ">>> x1 = np.arange(9.0).reshape((3, 3))\n",
            ">>> x2 = np.arange(3.0)\n",
            ">>> np.add(x1, x2)\n",
            "array([[  0.,   2.,   4.],\n",
            "       [  3.,   5.,   7.],\n",
            "       [  6.,   8.,  10.]])\n",
            "\n",
            "The ``+`` operator can be used as a shorthand for ``np.add`` on ndarrays.\n",
            "\n",
            ">>> x1 = np.arange(9.0).reshape((3, 3))\n",
            ">>> x2 = np.arange(3.0)\n",
            ">>> x1 + x2\n",
            "array([[ 0.,  2.,  4.],\n",
            "       [ 3.,  5.,  7.],\n",
            "       [ 6.,  8., 10.]])\n"
          ]
        }
      ],
      "source": [
        "np.info(np.add)"
      ]
    },
    {
      "cell_type": "markdown",
      "metadata": {
        "id": "Nm1GHbH4LrR9"
      },
      "source": [
        "3. Напишите программу `NumPy`, чтобы проверить, не равен ли ни один из элементов заданного массива нулю."
      ]
    },
    {
      "cell_type": "code",
      "execution_count": null,
      "metadata": {
        "id": "Clp92MIdLrR9",
        "colab": {
          "base_uri": "https://localhost:8080/"
        },
        "outputId": "a806c6f7-b9f2-4b67-8dc6-3d12cd22d319"
      },
      "outputs": [
        {
          "output_type": "execute_result",
          "data": {
            "text/plain": [
              "False"
            ]
          },
          "metadata": {},
          "execution_count": 4
        }
      ],
      "source": [
        "x = np.array([0, 1, 2, 3, 4])\n",
        "np.all(x)"
      ]
    },
    {
      "cell_type": "markdown",
      "metadata": {
        "id": "-zUXbmUkLrR9"
      },
      "source": [
        "4. Напишите программу `NumPy` для проверки того, является ли какой-либо из элементов заданного массива ненулевым."
      ]
    },
    {
      "cell_type": "code",
      "execution_count": null,
      "metadata": {
        "id": "3Me7UZQyLrR9"
      },
      "outputs": [],
      "source": [
        "x = np.array([0, 1, 2, 3, 4])\n",
        "np.any(x)"
      ]
    },
    {
      "cell_type": "markdown",
      "metadata": {
        "id": "RzL6l6O2LrR-"
      },
      "source": [
        "5. Напишите программу `NumPy` для поэлементной проверки заданного массива на конечность (не бесконечность или не число)."
      ]
    },
    {
      "cell_type": "code",
      "execution_count": null,
      "metadata": {
        "id": "o06chQHvLrR-"
      },
      "outputs": [],
      "source": [
        "x = np.array([1, 0, np.nan, np.inf])\n",
        "np.isfinite(x)"
      ]
    },
    {
      "cell_type": "markdown",
      "metadata": {
        "id": "MW4AId2nLrR-"
      },
      "source": [
        "6. Напишите программу `NumPy` для поэлементной проверки положительной или отрицательной бесконечности."
      ]
    },
    {
      "cell_type": "code",
      "execution_count": null,
      "metadata": {
        "id": "EShPYOKYLrR-"
      },
      "outputs": [],
      "source": [
        "x = np.array([1, 0, np.nan, np.inf])\n",
        "np.isinf(x)"
      ]
    },
    {
      "cell_type": "markdown",
      "metadata": {
        "id": "G5HdstHXLrR_"
      },
      "source": [
        "7. Напишите программу `NumPy` для поэлементной проверкизаданного массива на значение NaN."
      ]
    },
    {
      "cell_type": "code",
      "execution_count": null,
      "metadata": {
        "id": "vxHKWIXYLrR_"
      },
      "outputs": [],
      "source": [
        "x = np.array([1, 0, np.nan, np.inf])\n",
        "np.isnan(x)"
      ]
    },
    {
      "cell_type": "markdown",
      "metadata": {
        "id": "KAnAO0oDLrR_"
      },
      "source": [
        "8. Напишите программу `NumPy` для поэлементной проверки комплексного числа, действительного числа данного массива. Также проверьте, является ли данное число скалярным типом или нет."
      ]
    },
    {
      "cell_type": "code",
      "execution_count": null,
      "metadata": {
        "id": "H3ClvgUdLrR_"
      },
      "outputs": [],
      "source": [
        "x = np.array([1+1j, 1+0j, 4.5, 3, 2, 2j])\n",
        "print(np.iscomplex(x))\n",
        "print(np.isreal(x))\n",
        "print(np.isscalar(23.1))\n",
        "print(np.isscalar([4.1]))"
      ]
    },
    {
      "cell_type": "markdown",
      "metadata": {
        "id": "tVAqBPETLrR_"
      },
      "source": [
        "9. Напишите программу `NumPy`, чтобы проверить, равны ли два массива по элементам в пределах допуска."
      ]
    },
    {
      "cell_type": "code",
      "execution_count": null,
      "metadata": {
        "id": "P7uK4joELrR_",
        "colab": {
          "base_uri": "https://localhost:8080/"
        },
        "outputId": "f7017244-4c23-4f74-e8f4-5198aeada312"
      },
      "outputs": [
        {
          "output_type": "execute_result",
          "data": {
            "text/plain": [
              "True"
            ]
          },
          "metadata": {},
          "execution_count": 10
        }
      ],
      "source": [
        "x = np.array([1.2, 1.123, 2.1324, 3, 2])\n",
        "y = np.array([1.2, 1.124, 2.1325, 3, 2])\n",
        "np.allclose(x,y, rtol=0.001)"
      ]
    },
    {
      "cell_type": "markdown",
      "metadata": {
        "id": "9EOPoz68LrSA"
      },
      "source": [
        "10. Напишите программу `NumPy` для создания поэлементного сравнения (больше, больше_равно, меньше и меньше_равно) двух заданных массивов."
      ]
    },
    {
      "cell_type": "code",
      "execution_count": null,
      "metadata": {
        "id": "LrhzyHYnLrSA"
      },
      "outputs": [],
      "source": [
        "x = np.array([1.2, 1.123, 2.1324, 3, 2])\n",
        "y = np.array([1.2, 1.124, 2.1325, 3, 2])\n",
        "print(np.greater(x, y))\n",
        "print(np.greater_equal(x, y))\n",
        "print(np.less(x, y))\n",
        "print(np.less_equal(x, y))"
      ]
    },
    {
      "cell_type": "markdown",
      "metadata": {
        "id": "HuvSrHitLrSA"
      },
      "source": [
        "11. Напишите программу `NumPy` для создания поэлементного сравнения (равно, равно в пределах допуска) двух заданных массивов."
      ]
    },
    {
      "cell_type": "code",
      "execution_count": null,
      "metadata": {
        "id": "5SeLP8cXLrSA",
        "colab": {
          "base_uri": "https://localhost:8080/"
        },
        "outputId": "be94f41d-527e-4868-c59c-07fca8e7cabe"
      },
      "outputs": [
        {
          "output_type": "stream",
          "name": "stdout",
          "text": [
            "True\n",
            "False\n"
          ]
        }
      ],
      "source": [
        "x = np.array([1.2, 1.123, 2.1324, 3, 2])\n",
        "y = np.array([1.2, 1.124, 2.1325, 3, 2])\n",
        "print(np.allclose(x,y, rtol=0.01))\n",
        "print(np.array_equal(x,y))"
      ]
    },
    {
      "cell_type": "markdown",
      "metadata": {
        "id": "wDrxTDu0LrSA"
      },
      "source": [
        "12. Напишите программу `NumPy` для создания массива со значениями 1, 7, 13, 105 и определения размера памяти, занимаемой массивом."
      ]
    },
    {
      "cell_type": "code",
      "execution_count": null,
      "metadata": {
        "id": "E0UnVD5hLrSB"
      },
      "outputs": [],
      "source": [
        "x = np.array([1, 7, 13, 105])\n",
        "x.size * x.itemsize"
      ]
    },
    {
      "cell_type": "markdown",
      "metadata": {
        "id": "LfpXNYxbLrSB"
      },
      "source": [
        "13. Напишите программу `NumPy` для создания массива из `10` нулей, `10` единиц и `10` пятерок."
      ]
    },
    {
      "cell_type": "code",
      "execution_count": null,
      "metadata": {
        "id": "uWK9mPk2LrSB"
      },
      "outputs": [],
      "source": [
        "print(np.zeros(10))\n",
        "print(np.ones(10))\n",
        "print(np.ones(10)*5)"
      ]
    },
    {
      "cell_type": "markdown",
      "metadata": {
        "id": "XFasIltYLrSB"
      },
      "source": [
        "14. Напишите программу `NumPy` для создания массива целых чисел от `30` до `70`."
      ]
    },
    {
      "cell_type": "code",
      "execution_count": null,
      "metadata": {
        "id": "MBtkqiYjLrSB"
      },
      "outputs": [],
      "source": [
        "print(np.arange(30,71))"
      ]
    },
    {
      "cell_type": "markdown",
      "metadata": {
        "id": "k1sVqxQJLrSB"
      },
      "source": [
        "15. Напишите программу `NumPy` для создания массива всех четных целых чисел от `30` до `70`."
      ]
    },
    {
      "cell_type": "code",
      "execution_count": null,
      "metadata": {
        "id": "5QqpAjiQLrSB"
      },
      "outputs": [],
      "source": [
        "print(np.arange(30,71,2))"
      ]
    },
    {
      "cell_type": "markdown",
      "metadata": {
        "id": "YGDKsHHgLrSC"
      },
      "source": [
        "16. Напишите программу `NumPy` для создания идентификационной матрицы `3x3`."
      ]
    },
    {
      "cell_type": "code",
      "execution_count": null,
      "metadata": {
        "id": "gztJmu_yLrSC"
      },
      "outputs": [],
      "source": [
        "print(np.identity(3))"
      ]
    },
    {
      "cell_type": "markdown",
      "metadata": {
        "id": "Wpb9xudfLrSC"
      },
      "source": [
        "17. Напишите программу `NumPy` для генерации случайного числа от `0` до `1`."
      ]
    },
    {
      "cell_type": "code",
      "execution_count": null,
      "metadata": {
        "id": "24eQOUAeLrSC",
        "colab": {
          "base_uri": "https://localhost:8080/"
        },
        "outputId": "befc6292-134a-48dd-a090-4e416759a9d0"
      },
      "outputs": [
        {
          "output_type": "stream",
          "name": "stdout",
          "text": [
            "0.5856814303223871\n"
          ]
        }
      ],
      "source": [
        "print(np.random.normal(0,1))"
      ]
    },
    {
      "cell_type": "markdown",
      "metadata": {
        "id": "pSGds4jyLrSC"
      },
      "source": [
        "18. Напишите программу `NumPy` для создания массива из `15` случайных чисел из стандартного нормального распределения."
      ]
    },
    {
      "cell_type": "code",
      "execution_count": null,
      "metadata": {
        "id": "uQ-EFELoLrSC"
      },
      "outputs": [],
      "source": [
        "np.random.normal(0,1,15)"
      ]
    },
    {
      "cell_type": "markdown",
      "metadata": {
        "id": "Pp4DeI-HLrSD"
      },
      "source": [
        "19. Напишите программу `NumPy` для создания вектора со значениями в диапазоне от `15` до `55` и печати всех значений, кроме первого и последнего."
      ]
    },
    {
      "cell_type": "code",
      "execution_count": null,
      "metadata": {
        "id": "2WI9M2bgLrSD"
      },
      "outputs": [],
      "source": [
        "x = np.arrange(15,56)\n",
        "print(x[1:-1])"
      ]
    },
    {
      "cell_type": "markdown",
      "metadata": {
        "id": "Sh526ffOLrSD"
      },
      "source": [
        "20. Напишите программу `NumPy` для создания массива `3X4` с использованием и итерацией по нему."
      ]
    },
    {
      "cell_type": "code",
      "execution_count": null,
      "metadata": {
        "id": "LtkDAOdfLrSD"
      },
      "outputs": [],
      "source": [
        "x = np.arange(10,22).reshape((3, 4))\n",
        "for e in np.nditer(x):\n",
        "  print(e,end=\" \")"
      ]
    },
    {
      "cell_type": "markdown",
      "metadata": {
        "id": "pB1xOhfFLrSD"
      },
      "source": [
        "21. Напишите программу `NumPy` для создания вектора длины `10` со значениями, равномерно распределенными между `5` и `50`."
      ]
    },
    {
      "cell_type": "code",
      "execution_count": null,
      "metadata": {
        "id": "sMOSjDEyLrSE"
      },
      "outputs": [],
      "source": [
        "np.linspace(10, 49, 5)"
      ]
    },
    {
      "cell_type": "markdown",
      "metadata": {
        "id": "5TUPY8EhLrSE"
      },
      "source": [
        "22. Напишите программу `NumPy` для создания вектора со значениями от `0` до `20` и изменения знака чисел в диапазоне от `9` до `15`."
      ]
    },
    {
      "cell_type": "code",
      "execution_count": null,
      "metadata": {
        "id": "JHbcQ2t1LrSE"
      },
      "outputs": [],
      "source": [
        "x = np.arange(20)\n",
        "x[(x >= 9) & (x <= 15)] *= -1"
      ]
    },
    {
      "cell_type": "markdown",
      "metadata": {
        "id": "dWcuAQXFLrSE"
      },
      "source": [
        "23. Напишите программу `NumPy` для создания вектора длины `5`, заполненного произвольными целыми числами от `0` до `10`."
      ]
    },
    {
      "cell_type": "code",
      "execution_count": null,
      "metadata": {
        "id": "FwUBtFkALrSE"
      },
      "outputs": [],
      "source": [
        "np.random.randint(0, 11, 5)"
      ]
    },
    {
      "cell_type": "markdown",
      "metadata": {
        "id": "MvSV-KA1LrSE"
      },
      "source": [
        "24. Напишите программу `NumPy` для умножения значений двух заданных векторов."
      ]
    },
    {
      "cell_type": "code",
      "execution_count": null,
      "metadata": {
        "id": "SGbT420dLrSF"
      },
      "outputs": [],
      "source": [
        "x = np.array([1, 2, 3, 5])\n",
        "y = np.array([3, 4, 2, 5])\n",
        "print(x*y)"
      ]
    },
    {
      "cell_type": "markdown",
      "metadata": {
        "id": "UJdrJPZzLrSF"
      },
      "source": [
        "25. Напишите программу `NumPy` для создания матрицы `3x4`, заполненной значениями от `10` до `21`."
      ]
    },
    {
      "cell_type": "code",
      "execution_count": null,
      "metadata": {
        "id": "D6nU1fS0LrSF"
      },
      "outputs": [],
      "source": [
        "np.arange(10,22).reshape((3, 4))"
      ]
    },
    {
      "cell_type": "markdown",
      "metadata": {
        "id": "9lTLJGRrLrSG"
      },
      "source": [
        "26. Напишите программу `NumPy` для определения количества строк и столбцов заданной матрицы."
      ]
    },
    {
      "cell_type": "code",
      "execution_count": null,
      "metadata": {
        "id": "n8wIMOJOLrSG"
      },
      "outputs": [],
      "source": [
        "x = np.arange(10,22).reshape((3, 4))\n",
        "x.shape"
      ]
    },
    {
      "cell_type": "markdown",
      "metadata": {
        "id": "bnehbNwGLrSG"
      },
      "source": [
        "27. Напишите программу `NumPy` для создания единичной матрицы `3x3`, т.е. диагональные элементы равны `1`, остальные равны `0`."
      ]
    },
    {
      "cell_type": "code",
      "execution_count": null,
      "metadata": {
        "id": "rMSl-idfLrSG"
      },
      "outputs": [],
      "source": [
        "np.eye(3)"
      ]
    },
    {
      "cell_type": "markdown",
      "metadata": {
        "id": "zYrLgUf3LrSG"
      },
      "source": [
        "28. Напишите программу `NumPy` для создания матрицы `10х10`, в которой элементы на границах будут равны `1`, а внутри `0`."
      ]
    },
    {
      "cell_type": "code",
      "execution_count": null,
      "metadata": {
        "id": "y6MvsUGLLrSG"
      },
      "outputs": [],
      "source": [
        "x = np.ones((10, 10))\n",
        "x[1:-1, 1:-1] = 0"
      ]
    },
    {
      "cell_type": "markdown",
      "metadata": {
        "id": "pf4kNg6DLrSG"
      },
      "source": [
        "29. Напишите программу `NumPy` для создания нулевой матрицы `5x5` с элементами на главной диагонали, равными `1, 2, 3, 4, 5`."
      ]
    },
    {
      "cell_type": "code",
      "execution_count": null,
      "metadata": {
        "id": "qWfvY13WLrSH"
      },
      "outputs": [],
      "source": [
        "np.diag([1, 2, 3, 4, 5])"
      ]
    },
    {
      "cell_type": "markdown",
      "metadata": {
        "id": "II-Wb7mmLrSH"
      },
      "source": [
        "30. Напишите программу `NumPy` для создания матрицы `4x4`, в которой `0` и `1` расположены в шахматном порядке, с нулями на главной диагонали."
      ]
    },
    {
      "cell_type": "code",
      "execution_count": null,
      "metadata": {
        "id": "MbTKLywdLrSH",
        "colab": {
          "base_uri": "https://localhost:8080/"
        },
        "outputId": "9d8f0348-4fbe-415c-c75e-fd2e1535670c"
      },
      "outputs": [
        {
          "output_type": "stream",
          "name": "stdout",
          "text": [
            "[[0. 1. 0. 1.]\n",
            " [1. 0. 1. 0.]\n",
            " [0. 1. 0. 1.]\n",
            " [1. 0. 1. 0.]]\n"
          ]
        }
      ],
      "source": [
        "x = np.zeros((4, 4))\n",
        "x[::2, 1::2] = 1\n",
        "x[1::2, ::2] = 1\n",
        "print(x)"
      ]
    },
    {
      "cell_type": "markdown",
      "metadata": {
        "id": "E5UUF-4QLrSH"
      },
      "source": [
        "31. Напишите программу `NumPy` для создания массива `3x3x3`, заполненного произвольными значениями."
      ]
    },
    {
      "cell_type": "code",
      "execution_count": null,
      "metadata": {
        "id": "X_inamETLrSH"
      },
      "outputs": [],
      "source": [
        "np.random.random((3, 3, 3))"
      ]
    },
    {
      "cell_type": "markdown",
      "metadata": {
        "id": "jzXYccaTLrSH"
      },
      "source": [
        "32. Напишите программу `NumPy` для вычисления суммы всех элементов, суммы каждого столбца и суммы каждой строки заданного массива."
      ]
    },
    {
      "cell_type": "code",
      "execution_count": null,
      "metadata": {
        "id": "3VMn3RvULrSH"
      },
      "outputs": [],
      "source": [
        "x = np.arange(10,22).reshape((3, 4))\n",
        "print(np.sum(x))\n",
        "print(np.sum(x, axis=0))\n",
        "print(np.sum(x, axis=1))"
      ]
    },
    {
      "cell_type": "markdown",
      "metadata": {
        "id": "oPmrSd3DLrSH"
      },
      "source": [
        "33. Напишите программу `NumPy` для вычисления скалярного произведения двух заданных векторов."
      ]
    },
    {
      "cell_type": "code",
      "execution_count": null,
      "metadata": {
        "id": "wzcn1TCpLrSI"
      },
      "outputs": [],
      "source": [
        "x = np.array([1, 2, 3, 5])\n",
        "y = np.array([3, 4, 2, 5])\n",
        "np.dot(x, y)"
      ]
    },
    {
      "cell_type": "markdown",
      "metadata": {
        "id": "UmNYdRvMLrSI"
      },
      "source": [
        "34. Напишите программу `NumPy` для добавления вектора в каждую строку заданной матрицы."
      ]
    },
    {
      "cell_type": "code",
      "execution_count": null,
      "metadata": {
        "id": "Dt44t4mWLrSI",
        "colab": {
          "base_uri": "https://localhost:8080/"
        },
        "outputId": "3d50c976-33e8-4d07-a4cc-2a49feb1f915"
      },
      "outputs": [
        {
          "output_type": "execute_result",
          "data": {
            "text/plain": [
              "array([[11, 13, 15, 17],\n",
              "       [15, 17, 19, 21],\n",
              "       [19, 21, 23, 25]])"
            ]
          },
          "metadata": {},
          "execution_count": 8
        }
      ],
      "source": [
        "x = np.arange(10,22).reshape((3, 4))\n",
        "v = np.array([1, 2, 3, 4])\n",
        "result = np.empty_like(x)\n",
        "for i in range(3):\n",
        "  result[i, :] = x[i, :] + v\n",
        "result"
      ]
    },
    {
      "cell_type": "markdown",
      "metadata": {
        "id": "5o8ixWnqLrSI"
      },
      "source": [
        "35. Напишите программу `NumPy` для сохранения данного массива в двоичный файл."
      ]
    },
    {
      "cell_type": "code",
      "execution_count": null,
      "metadata": {
        "id": "1f9oSs4CLrSI",
        "colab": {
          "base_uri": "https://localhost:8080/"
        },
        "outputId": "bc251e78-4827-4b44-80e5-b2b113bd880d"
      },
      "outputs": [
        {
          "output_type": "execute_result",
          "data": {
            "text/plain": [
              "array([ True,  True,  True,  True,  True,  True,  True,  True,  True,\n",
              "        True,  True,  True,  True,  True,  True,  True,  True,  True,\n",
              "        True,  True])"
            ]
          },
          "metadata": {},
          "execution_count": 11
        }
      ],
      "source": [
        "x = np.arange(20)\n",
        "np.save('temp_arra.npy', x)\n",
        "x2 = np.load('temp_arra.npy')\n",
        "np.array_equal(x,x2)"
      ]
    },
    {
      "cell_type": "markdown",
      "metadata": {
        "id": "J8XHGVX9LrSI"
      },
      "source": [
        "36. Напишите программу `NumPy` для сохранения двух заданных массивов в один файл в сжатом формате (формат `.npz`) и загрузите его."
      ]
    },
    {
      "cell_type": "code",
      "execution_count": null,
      "metadata": {
        "id": "6v6p-S5lLrSI"
      },
      "outputs": [],
      "source": [
        "x = np.arange(10)\n",
        "y = np.arange(11, 20)\n",
        "\n",
        "np.savez('temp_arra.npz', x=x, y=y)\n",
        "\n",
        "with np.load('temp_arra.npz') as data:\n",
        "    x2 = data['x']\n",
        "    y2 = data['y']\n",
        "    print(np.array_equal(x, x2))\n",
        "    print(np.array_equal(y, y2))"
      ]
    },
    {
      "cell_type": "markdown",
      "metadata": {
        "id": "_GiCUDdXLrSI"
      },
      "source": [
        "37. Напишите программу `NumPy` для сохранения данного массива в текстовый файл и его загрузки."
      ]
    },
    {
      "cell_type": "code",
      "execution_count": null,
      "metadata": {
        "id": "KhHuJ7kkLrSI"
      },
      "outputs": [],
      "source": [
        "x = np.arange(10)\n",
        "np.savetxt(\"temp_array.npz\", x)\n",
        "x2 = np.loadtxt(\"temp_array.npz\")"
      ]
    },
    {
      "cell_type": "markdown",
      "metadata": {
        "id": "np8z835ELrSJ"
      },
      "source": [
        "38. Напишите программу `NumPy` для преобразования заданного массива в байты и загрузки его как массива."
      ]
    },
    {
      "cell_type": "code",
      "execution_count": null,
      "metadata": {
        "id": "Q3E0YwbTLrSJ"
      },
      "outputs": [],
      "source": [
        "x = np.arange(10)\n",
        "x_bytes = x.tostring()\n",
        "x2 = np.fromstring(x, dtype=x.dtype)\n",
        "np.array_equal(x,x2)"
      ]
    },
    {
      "cell_type": "markdown",
      "metadata": {
        "id": "ijvUXguELrSJ"
      },
      "source": [
        "39. Напишите программу `NumPy` для преобразования данного списка в массив, а затем снова преобразуйте его в список. Проверьте, равны ли исходный список и окончательный список."
      ]
    },
    {
      "cell_type": "code",
      "execution_count": null,
      "metadata": {
        "id": "QiG8P3o5LrSJ"
      },
      "outputs": [],
      "source": [
        "x = [[1,2],[3,4]]\n",
        "x_arr = np.array(x)\n",
        "x2 = x_arr.tolist()\n",
        "x==x2"
      ]
    },
    {
      "cell_type": "markdown",
      "metadata": {
        "id": "7qT1tOj3LrSJ"
      },
      "source": [
        "40. Напишите программу `NumPy` для вычисления координат `x` и `y` точек на синусоиде и построения точек с помощью `matplotlib`."
      ]
    },
    {
      "cell_type": "code",
      "execution_count": null,
      "metadata": {
        "id": "r3qd5t2OLrSJ"
      },
      "outputs": [],
      "source": [
        "x = np.arange(0, 3 * np.pi, 0.2)\n",
        "y = np.sin(x)\n",
        "plt.plot(x, y)\n",
        "plt.show()"
      ]
    },
    {
      "cell_type": "markdown",
      "metadata": {
        "id": "xGqlTWbxLrSJ"
      },
      "source": [
        "41. Напишите программу `NumPy` для преобразования dtypes `NumPy` в собственные типы python."
      ]
    },
    {
      "cell_type": "code",
      "execution_count": null,
      "metadata": {
        "id": "HovBggDvLrSJ"
      },
      "outputs": [],
      "source": [
        "x = np.float32(1)\n",
        "print(type(x))\n",
        "pyval = x.item()\n",
        "print(type(pyval))"
      ]
    },
    {
      "cell_type": "markdown",
      "metadata": {
        "id": "r9Z4ejnQLrSK"
      },
      "source": [
        "42. Напишите программу `NumPy` для суммирования элементов матрицы. Если элемент в матрице равен `0`, мы не будем добавлять элемент ниже этого элемента."
      ]
    },
    {
      "cell_type": "code",
      "execution_count": null,
      "metadata": {
        "id": "ZFTj7eG_LrSK",
        "colab": {
          "base_uri": "https://localhost:8080/"
        },
        "outputId": "1a342e27-b523-49e6-e59a-c9db57f856ee"
      },
      "outputs": [
        {
          "output_type": "stream",
          "name": "stdout",
          "text": [
            "[[1 2 0 4]\n",
            " [5 6 7 8]\n",
            " [1 0 3 4]\n",
            " [5 0 7 8]]\n",
            "[[ True  True False  True]\n",
            " [ True  True  True  True]\n",
            " [ True False  True  True]\n",
            " [ True False  True  True]]\n",
            "[[ True  True  True  True]\n",
            " [ True  True False  True]\n",
            " [ True  True  True  True]\n",
            " [ True False  True  True]]\n",
            "54\n"
          ]
        }
      ],
      "source": [
        "matrix = np.array([[1,2,0,4],[5,6,7,8],[1,0,3,4],[5,0,7,8]])\n",
        "mask = matrix != 0\n",
        "mask = np.pad(mask, ((1,0),(0,0)), constant_values=True)[:-1]\n",
        "\n",
        "print((mask*matrix).sum())\n"
      ]
    },
    {
      "cell_type": "markdown",
      "metadata": {
        "id": "wPKctbj0LrSK"
      },
      "source": [
        "43. Напишите программу `NumPy` для поиска недостающих (`NaN`) данных в заданном массиве."
      ]
    },
    {
      "cell_type": "code",
      "execution_count": null,
      "metadata": {
        "colab": {
          "base_uri": "https://localhost:8080/"
        },
        "id": "kOzpXne7LrSL",
        "outputId": "a2a70478-f5ee-4053-db13-846082dadae6"
      },
      "outputs": [
        {
          "output_type": "execute_result",
          "data": {
            "text/plain": [
              "(array([3, 6]),)"
            ]
          },
          "metadata": {},
          "execution_count": 4
        }
      ],
      "source": [
        "a = np.array([1, 2, 3, np.nan, 4, 5, np.nan, 6, 7])\n",
        "np.isnan(a)"
      ]
    },
    {
      "cell_type": "markdown",
      "metadata": {
        "id": "hjymTw8YLrSL"
      },
      "source": [
        "44. Напишите программу `NumPy`, чтобы проверить, равны ли два массива (поэлементно) или нет."
      ]
    },
    {
      "cell_type": "code",
      "execution_count": null,
      "metadata": {
        "id": "yOizNqKGLrSL"
      },
      "outputs": [],
      "source": [
        "x = np.array([1, 2, 3, 5])\n",
        "y = np.array([3, 4, 2, 5])\n",
        "np.equal(x, y)"
      ]
    },
    {
      "cell_type": "markdown",
      "metadata": {
        "id": "dr1np9n_LrSL"
      },
      "source": [
        "45. Напишите программу `NumPy` для создания одномерного массива одно-, двух- и трехзначных чисел."
      ]
    },
    {
      "cell_type": "code",
      "execution_count": null,
      "metadata": {
        "id": "x2MlJxiaLrSL"
      },
      "outputs": [],
      "source": [
        "import numpy as np\n",
        "arr =np.arange(10)\n",
        "arr =np.arange(10,100)\n",
        "arr =np.arange(100,200)\n"
      ]
    },
    {
      "cell_type": "markdown",
      "metadata": {
        "id": "-cJvQtdFLrSM"
      },
      "source": [
        "46. Напишите программу `NumPy` для создания двумерного массива указанного формата."
      ]
    },
    {
      "cell_type": "code",
      "execution_count": null,
      "metadata": {
        "id": "M0BVY0aoLrSM"
      },
      "outputs": [],
      "source": [
        "np.arange(1, 151).reshape(15, 10)"
      ]
    },
    {
      "cell_type": "markdown",
      "metadata": {
        "id": "yV7JDimtLrSM"
      },
      "source": [
        "47. Напишите программу `NumPy` для создания одномерного массива из сорока псевдослучайно сгенерированных значений. Выберите случайные числа из равномерного распределения между 0 и 1."
      ]
    },
    {
      "cell_type": "code",
      "execution_count": null,
      "metadata": {
        "id": "2wpihfx3LrSM",
        "colab": {
          "base_uri": "https://localhost:8080/"
        },
        "outputId": "52443727-bdb9-49bc-b969-e38ee09cb20c"
      },
      "outputs": [
        {
          "output_type": "execute_result",
          "data": {
            "text/plain": [
              "array([0.2310448 , 0.30720638, 0.43940935, 0.41602892, 0.02503188,\n",
              "       0.14287301, 0.46594525, 0.31688238, 0.22935571, 0.89641387,\n",
              "       0.19452663, 0.05476066, 0.18293202, 0.33950741, 0.00272461,\n",
              "       0.53228732, 0.60137963, 0.57534414, 0.36288396, 0.73248098,\n",
              "       0.33030766, 0.93415988, 0.53933263, 0.84662925, 0.7367508 ,\n",
              "       0.89682269, 0.74778607, 0.02864283, 0.24236985, 0.87337976,\n",
              "       0.05045499, 0.47687247, 0.83074967, 0.37130414, 0.32231884,\n",
              "       0.12793887, 0.30562967, 0.94244316, 0.20474839, 0.96456034])"
            ]
          },
          "metadata": {},
          "execution_count": 12
        }
      ],
      "source": [
        "np.random.rand(40)"
      ]
    },
    {
      "cell_type": "markdown",
      "metadata": {
        "id": "3OZy4B-rLrSM"
      },
      "source": [
        "48. Напишите программу `NumPy` для создания двумерного массива случайных чисел формы `(8,5)`. Выберите случайные числа из нормального распределения `(200,7)`."
      ]
    },
    {
      "cell_type": "code",
      "execution_count": null,
      "metadata": {
        "id": "-g1JGwLTLrSN",
        "colab": {
          "base_uri": "https://localhost:8080/"
        },
        "outputId": "87698b1a-aa14-485d-a00d-641b60623c02"
      },
      "outputs": [
        {
          "output_type": "execute_result",
          "data": {
            "text/plain": [
              "array([[193.76213722, 210.96395276, 188.69524303, 209.23264209,\n",
              "        198.13874056],\n",
              "       [203.91407673, 202.34569792, 207.80392984, 193.85681607,\n",
              "        205.13314236],\n",
              "       [194.75227463, 207.93711481, 199.57200242, 193.12195615,\n",
              "        198.73644469],\n",
              "       [200.52273356, 197.60508642, 208.28190909, 197.99646924,\n",
              "        210.84314433],\n",
              "       [207.89571496, 195.90452274, 200.19998157, 205.17437717,\n",
              "        204.18607114],\n",
              "       [205.94429801, 188.72454865, 202.53313761, 195.44785053,\n",
              "        208.72511783],\n",
              "       [198.78523785, 188.91248911, 204.82383238, 196.58993551,\n",
              "        201.5560953 ],\n",
              "       [203.01534321, 212.99569377, 196.6020905 , 204.950115  ,\n",
              "        202.05946195]])"
            ]
          },
          "metadata": {},
          "execution_count": 15
        }
      ],
      "source": [
        "np.random.normal(200, 7, (8,5))"
      ]
    },
    {
      "cell_type": "markdown",
      "metadata": {
        "id": "vO8x192LLrSN"
      },
      "source": [
        "49. Напишите программу `NumPy` для генерации униформы, nоднородная случайная выборка из заданного одномерного массива с замещением и без замещения."
      ]
    },
    {
      "cell_type": "code",
      "execution_count": null,
      "metadata": {
        "id": "P2Un6LSpLrSN"
      },
      "outputs": [],
      "source": [
        "x = np.array([1, 2, 3, 4, 5, 6, 7, 8, 9, 10])\n",
        "\n",
        "# Generate a uniform random sample with replacement\n",
        "print(np.random.choice(x, size=5, replace=True))\n",
        "\n",
        "# Generate a uniform random sample without replacement\n",
        "print(np.random.choice(x, size=5, replace=False))"
      ]
    },
    {
      "cell_type": "markdown",
      "metadata": {
        "id": "agH4pKwfLrSN"
      },
      "source": [
        "50. Напишите программу `NumPy` для создания массива `4x4` со случайными значениями, теперь создайте новый массив из указанного массива, поменяв местами первую и последнюю строки."
      ]
    },
    {
      "cell_type": "code",
      "execution_count": null,
      "metadata": {
        "id": "3d4ToZfSLrSN"
      },
      "outputs": [],
      "source": [
        "x = np.random.rand(16).reshape(4,4)\n",
        "x[[0,-1],:] = x[[-1,0],:]"
      ]
    },
    {
      "cell_type": "markdown",
      "metadata": {
        "id": "Sv5wQCwFLrSN"
      },
      "source": [
        "51. Напишите программу `NumPy` для создания нового массива заданной формы `(5,6)` и типа, заполненного нулями."
      ]
    },
    {
      "cell_type": "code",
      "execution_count": null,
      "metadata": {
        "id": "sclBqaJNLrSN"
      },
      "outputs": [],
      "source": [
        "x = np.zeros((5,6), dtype=np.float32)"
      ]
    },
    {
      "cell_type": "markdown",
      "metadata": {
        "id": "5zaUnIkdLrSN"
      },
      "source": [
        "52. Напишите программу `NumPy` для сортировки заданного массива по строкам и столбцам в порядке возрастания."
      ]
    },
    {
      "cell_type": "code",
      "execution_count": null,
      "metadata": {
        "id": "cZwKee6LLrSO"
      },
      "outputs": [],
      "source": [
        "x = np.arange(1, 151).reshape(15, 10)\n",
        "print(np.sort(x))\n",
        "print(np.sort(x, axis=0))"
      ]
    },
    {
      "cell_type": "markdown",
      "metadata": {
        "id": "WQVFnJWRLrSO"
      },
      "source": [
        "53. Напишите программу `NumPy` для извлечения из заданного массива всех чисел, которые меньше и больше указанного числа."
      ]
    },
    {
      "cell_type": "code",
      "execution_count": null,
      "metadata": {
        "id": "CmBvFEFvLrSO"
      },
      "outputs": [],
      "source": [
        "x = np.arange(1, 151)\n",
        "print(x[x>15])\n",
        "print(x[x<15])"
      ]
    },
    {
      "cell_type": "markdown",
      "metadata": {
        "id": "cpK4uZkRLrSO"
      },
      "source": [
        "54. Напишите программу `NumPy` для замены всех чисел в заданном массиве, которые равны, меньше и больше заданному числу."
      ]
    },
    {
      "cell_type": "code",
      "execution_count": null,
      "metadata": {
        "id": "oLlFnYrdLrSO"
      },
      "outputs": [],
      "source": [
        "x = np.arange(1, 151)\n",
        "x[x>15] = 1\n",
        "x[x<15] = 0\n",
        "print(x)"
      ]
    },
    {
      "cell_type": "markdown",
      "metadata": {
        "id": "QGmaNuDXLrSO"
      },
      "source": [
        "55. Напишите программу `NumPy` для создания массива одинаковой формы и типа данных заданного массива."
      ]
    },
    {
      "cell_type": "code",
      "execution_count": null,
      "metadata": {
        "id": "xcDRGlUWLrSO"
      },
      "outputs": [],
      "source": [
        "x = np.arange(1, 151)\n",
        "np.zeros_like(x)"
      ]
    },
    {
      "cell_type": "markdown",
      "metadata": {
        "id": "gQUrTJ2HLrSO"
      },
      "source": [
        "56. Напишите программу `NumPy` для создания трехмерного массива формы `(3,5,4)` и установки переменной."
      ]
    },
    {
      "cell_type": "code",
      "execution_count": null,
      "metadata": {
        "id": "MBRIfUrvLrSO"
      },
      "outputs": [],
      "source": [
        "nums = np.array([[[1, 5, 2, 1],\n",
        "               [4, 3, 5, 6],\n",
        "               [6, 3, 0, 6],\n",
        "               [7, 3, 5, 0],\n",
        "               [2, 3, 3, 5]],\n",
        "\n",
        "              [[2, 2, 3, 1],\n",
        "               [4, 0, 0, 5],\n",
        "               [6, 3, 2, 1],\n",
        "               [5, 1, 0, 0],\n",
        "               [0, 1, 9, 1]],\n",
        "\n",
        "              [[3, 1, 4, 2],\n",
        "               [4, 1, 6, 0],\n",
        "               [1, 2, 0, 6],\n",
        "               [8, 3, 4, 0],\n",
        "               [2, 0, 2, 8]]])"
      ]
    },
    {
      "cell_type": "markdown",
      "metadata": {
        "id": "EXlVaeA6LrSP"
      },
      "source": [
        "57. Напишите программу `NumPy` для создания массива `4x4`, теперь создайте новый массив из указанного массива, поменяв местами первый и последний, второй и третий столбцы."
      ]
    },
    {
      "cell_type": "code",
      "execution_count": null,
      "metadata": {
        "id": "NFZdJbP9LrSP"
      },
      "outputs": [],
      "source": [
        "x = np.arrange(16).reshape(4,4)\n",
        "new_x = x[:, ::-1]"
      ]
    },
    {
      "cell_type": "markdown",
      "metadata": {
        "id": "bEiyNTo_LrSP"
      },
      "source": [
        "58. Напишите программу `NumPy` для замены строк и столбцов заданного массива в обратном порядке."
      ]
    },
    {
      "cell_type": "code",
      "execution_count": null,
      "metadata": {
        "id": "510ZZG-kLrSP"
      },
      "outputs": [],
      "source": [
        "x = np.arrange(16).reshape(4,4)\n",
        "x[::-1, ::-1]"
      ]
    },
    {
      "cell_type": "markdown",
      "metadata": {
        "id": "GCjWM7QhLrSP"
      },
      "source": [
        "59. Напишите программу `NumPy` для поэлементного умножения двух заданных массивов одинакового размера."
      ]
    },
    {
      "cell_type": "code",
      "execution_count": null,
      "metadata": {
        "id": "2JmisyWzLrSP"
      },
      "outputs": [],
      "source": [
        "x = np.arrange(16).reshape(4,4)\n",
        "y = np.arrange(10,26).reshape(4,4)\n",
        "np.multiply(x,y)"
      ]
    }
  ],
  "metadata": {
    "kernelspec": {
      "display_name": "venv",
      "language": "python",
      "name": "python3"
    },
    "language_info": {
      "name": "python",
      "version": "3.10.9 (main, Dec 19 2022, 17:35:49) [GCC 12.2.0]"
    },
    "orig_nbformat": 4,
    "vscode": {
      "interpreter": {
        "hash": "7be26e4ebda509dfbb13ab6a52ec64ebd2214f8c7086d07b65a11e04d307a817"
      }
    },
    "colab": {
      "provenance": []
    }
  },
  "nbformat": 4,
  "nbformat_minor": 0
}